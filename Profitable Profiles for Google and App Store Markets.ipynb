{
 "cells": [
  {
   "cell_type": "markdown",
   "metadata": {
    "collapsed": true
   },
   "source": [
    "# Profitable App Profiles for the App Store and Google Play Markets\n",
    "This project uses [AppStore](https://www.kaggle.com/ramamet4/app-store-apple-data-set-10k-apps) and [GooglePlay](https://www.kaggle.com/lava18/google-play-store-apps) data from Kaggle. Interestingly, these contain 7,000 and 10,000 items respectively. Goal is to explore the raw data and to understand from the available features, apps that are profitable."
   ]
  },
  {
   "cell_type": "markdown",
   "metadata": {
    "collapsed": true
   },
   "source": [
    "## Data Exploration"
   ]
  },
  {
   "cell_type": "code",
   "execution_count": 1,
   "metadata": {
    "collapsed": true
   },
   "outputs": [],
   "source": [
    "from csv import reader\n",
    "\n",
    "# retrieve Apple Store data from CSV\n",
    "file_opener = open('AppleStore.csv')\n",
    "file_reader = reader(file_opener)\n",
    "apple_store = list(file_reader)\n",
    "ios_header, ios = apple_store[0], apple_store[1:]\n",
    "\n",
    "# retrieve Google Play Store data from CSV\n",
    "file_opener = open('googleplaystore.csv')\n",
    "file_reader = reader(file_opener)\n",
    "google_play = list(file_reader)\n",
    "android_header, android = google_play[0], google_play[1:]"
   ]
  },
  {
   "cell_type": "code",
   "execution_count": 2,
   "metadata": {
    "collapsed": true
   },
   "outputs": [],
   "source": [
    "def explore_data(dataset, start, end, rows_and_columns=False):\n",
    "    dataset_slice = dataset[start:end]    \n",
    "    for row in dataset_slice:\n",
    "        print(row)\n",
    "        print('\\n') # adds a new (empty) line after each row\n",
    "\n",
    "    if rows_and_columns:\n",
    "        print('Number of rows:', len(dataset))\n",
    "        print('Number of columns:', len(dataset[0]))"
   ]
  },
  {
   "cell_type": "markdown",
   "metadata": {},
   "source": [
    "** iOS Head Data **"
   ]
  },
  {
   "cell_type": "code",
   "execution_count": 3,
   "metadata": {},
   "outputs": [
    {
     "name": "stdout",
     "output_type": "stream",
     "text": [
      "['284882215', 'Facebook', '389879808', 'USD', '0.0', '2974676', '212', '3.5', '3.5', '95.0', '4+', 'Social Networking', '37', '1', '29', '1']\n",
      "\n",
      "\n",
      "['389801252', 'Instagram', '113954816', 'USD', '0.0', '2161558', '1289', '4.5', '4.0', '10.23', '12+', 'Photo & Video', '37', '0', '29', '1']\n",
      "\n",
      "\n",
      "['529479190', 'Clash of Clans', '116476928', 'USD', '0.0', '2130805', '579', '4.5', '4.5', '9.24.12', '9+', 'Games', '38', '5', '18', '1']\n",
      "\n",
      "\n",
      "['420009108', 'Temple Run', '65921024', 'USD', '0.0', '1724546', '3842', '4.5', '4.0', '1.6.2', '9+', 'Games', '40', '5', '1', '1']\n",
      "\n",
      "\n",
      "['284035177', 'Pandora - Music & Radio', '130242560', 'USD', '0.0', '1126879', '3594', '4.0', '4.5', '8.4.1', '12+', 'Music', '37', '4', '1', '1']\n",
      "\n",
      "\n",
      "Number of rows: 7197\n",
      "Number of columns: 16\n"
     ]
    }
   ],
   "source": [
    "explore_data(ios, 0, 5, True)"
   ]
  },
  {
   "cell_type": "markdown",
   "metadata": {},
   "source": [
    "** Android Head Data **"
   ]
  },
  {
   "cell_type": "code",
   "execution_count": 4,
   "metadata": {},
   "outputs": [
    {
     "name": "stdout",
     "output_type": "stream",
     "text": [
      "['Photo Editor & Candy Camera & Grid & ScrapBook', 'ART_AND_DESIGN', '4.1', '159', '19M', '10,000+', 'Free', '0', 'Everyone', 'Art & Design', 'January 7, 2018', '1.0.0', '4.0.3 and up']\n",
      "\n",
      "\n",
      "['Coloring book moana', 'ART_AND_DESIGN', '3.9', '967', '14M', '500,000+', 'Free', '0', 'Everyone', 'Art & Design;Pretend Play', 'January 15, 2018', '2.0.0', '4.0.3 and up']\n",
      "\n",
      "\n",
      "['U Launcher Lite – FREE Live Cool Themes, Hide Apps', 'ART_AND_DESIGN', '4.7', '87510', '8.7M', '5,000,000+', 'Free', '0', 'Everyone', 'Art & Design', 'August 1, 2018', '1.2.4', '4.0.3 and up']\n",
      "\n",
      "\n",
      "['Sketch - Draw & Paint', 'ART_AND_DESIGN', '4.5', '215644', '25M', '50,000,000+', 'Free', '0', 'Teen', 'Art & Design', 'June 8, 2018', 'Varies with device', '4.2 and up']\n",
      "\n",
      "\n",
      "['Pixel Draw - Number Art Coloring Book', 'ART_AND_DESIGN', '4.3', '967', '2.8M', '100,000+', 'Free', '0', 'Everyone', 'Art & Design;Creativity', 'June 20, 2018', '1.1', '4.4 and up']\n",
      "\n",
      "\n",
      "Number of rows: 10841\n",
      "Number of columns: 13\n"
     ]
    }
   ],
   "source": [
    "explore_data(android, 0, 5, True)"
   ]
  },
  {
   "cell_type": "markdown",
   "metadata": {},
   "source": [
    "It can be observed that both datasets have different headers or column names:"
   ]
  },
  {
   "cell_type": "code",
   "execution_count": 5,
   "metadata": {},
   "outputs": [
    {
     "name": "stdout",
     "output_type": "stream",
     "text": [
      "iOS:\n",
      "['id', 'track_name', 'size_bytes', 'currency', 'price', 'rating_count_tot', 'rating_count_ver', 'user_rating', 'user_rating_ver', 'ver', 'cont_rating', 'prime_genre', 'sup_devices.num', 'ipadSc_urls.num', 'lang.num', 'vpp_lic']\n",
      "\n",
      "Android:\n",
      "['App', 'Category', 'Rating', 'Reviews', 'Size', 'Installs', 'Type', 'Price', 'Content Rating', 'Genres', 'Last Updated', 'Current Ver', 'Android Ver']\n"
     ]
    }
   ],
   "source": [
    "print(\"iOS:\")\n",
    "print(ios_header)\n",
    "print(\"\\nAndroid:\")\n",
    "print(android_header)"
   ]
  },
  {
   "cell_type": "markdown",
   "metadata": {},
   "source": [
    "## Data Cleaning"
   ]
  },
  {
   "cell_type": "code",
   "execution_count": 6,
   "metadata": {},
   "outputs": [
    {
     "name": "stdout",
     "output_type": "stream",
     "text": [
      "['Life Made WI-Fi Touchscreen Photo Frame', '1.9', '19', '3.0M', '1,000+', 'Free', '0', 'Everyone', '', 'February 11, 2018', '1.0.19', '4.0 and up']\n",
      "['App', 'Category', 'Rating', 'Reviews', 'Size', 'Installs', 'Type', 'Price', 'Content Rating', 'Genres', 'Last Updated', 'Current Ver', 'Android Ver']\n"
     ]
    }
   ],
   "source": [
    "# Remove rows that are invalid based on Kaggle discussion\n",
    "print(android[10472]) # category 1.9 is inaccurate\n",
    "print(android_header)\n",
    "del android[10472]"
   ]
  },
  {
   "cell_type": "code",
   "execution_count": 7,
   "metadata": {},
   "outputs": [
    {
     "name": "stdout",
     "output_type": "stream",
     "text": [
      "There are 1181 duplicate apps in Android\n",
      "There are 2 duplicate apps in iOS\n"
     ]
    }
   ],
   "source": [
    "# Check duplicate apps\n",
    "def check_duplicates(dataset, name_col_index):\n",
    "    duplicate_apps = []\n",
    "    unique_apps = []\n",
    "\n",
    "    for row in dataset:\n",
    "        name = row[name_col_index]\n",
    "        if name in unique_apps:\n",
    "            duplicate_apps.append(name)\n",
    "        else:\n",
    "            unique_apps.append(name)\n",
    "\n",
    "    return duplicate_apps\n",
    "\n",
    "android_duplicates = check_duplicates(android, 0)\n",
    "ios_duplicates = check_duplicates(ios, 1)\n",
    "\n",
    "print(\"There are {} duplicate apps in Android\".format(len(android_duplicates)))\n",
    "print(\"There are {} duplicate apps in iOS\".format(len(ios_duplicates)))"
   ]
  },
  {
   "cell_type": "code",
   "execution_count": 8,
   "metadata": {},
   "outputs": [
    {
     "name": "stdout",
     "output_type": "stream",
     "text": [
      "['Mannequin Challenge', 'VR Roller Coaster']\n",
      "\n",
      "\n",
      "['Quick PDF Scanner + OCR FREE', 'Box']\n"
     ]
    }
   ],
   "source": [
    "print(ios_duplicates)\n",
    "print(\"\\n\")\n",
    "print(android_duplicates[:2])"
   ]
  },
  {
   "cell_type": "code",
   "execution_count": 9,
   "metadata": {},
   "outputs": [
    {
     "name": "stdout",
     "output_type": "stream",
     "text": [
      "Android apps with no duplicates (highest reviews): 9659\n",
      "Length of cleaned Android data: 9659\n"
     ]
    }
   ],
   "source": [
    "def fix_duplicates(dataset, name_col_index, reviews_col_index):\n",
    "    reviews_max = {}\n",
    "    clean = []\n",
    "    already_added = []\n",
    "    \n",
    "    # store the app with the highest review in a dictionary\n",
    "    for row in dataset:\n",
    "        name = row[name_col_index]\n",
    "        n_reviews = float(row[reviews_col_index])\n",
    "        \n",
    "        if name in reviews_max and reviews_max[name] < n_reviews:\n",
    "            reviews_max[name] = n_reviews\n",
    "        elif name not in reviews_max:\n",
    "            reviews_max[name] = n_reviews\n",
    "    \n",
    "    # get the app that matches the dictionary of apps with name & highest review\n",
    "    for row in dataset:\n",
    "        name = row[name_col_index]\n",
    "        n_reviews = float(row[reviews_col_index])\n",
    "        \n",
    "        if n_reviews == reviews_max[name] and name not in already_added:\n",
    "            clean.append(row)\n",
    "            already_added.append(name)\n",
    "\n",
    "    return reviews_max, clean\n",
    "\n",
    "android_reviews_max, android_clean = fix_duplicates(android, 0, 3)\n",
    "print(\"Android apps with no duplicates (highest reviews): {}\".format(len(android_reviews_max)))\n",
    "print(\"Length of cleaned Android data: {}\".format(len(android_clean)))"
   ]
  },
  {
   "cell_type": "code",
   "execution_count": 10,
   "metadata": {},
   "outputs": [
    {
     "name": "stdout",
     "output_type": "stream",
     "text": [
      "iOS apps with no duplicates (highest reviews): 7195\n",
      "Length of cleaned iOS data: 7195\n"
     ]
    }
   ],
   "source": [
    "# clean iOS apps\n",
    "ios_reviews_max, ios_clean = fix_duplicates(ios, 1, 5)\n",
    "print(\"iOS apps with no duplicates (highest reviews): {}\".format(len(ios_reviews_max)))\n",
    "print(\"Length of cleaned iOS data: {}\".format(len(ios_clean)))"
   ]
  },
  {
   "cell_type": "markdown",
   "metadata": {},
   "source": [
    "** Remove apps that are non-English **"
   ]
  },
  {
   "cell_type": "code",
   "execution_count": 11,
   "metadata": {},
   "outputs": [
    {
     "name": "stdout",
     "output_type": "stream",
     "text": [
      "False\n",
      "False\n",
      "True\n"
     ]
    }
   ],
   "source": [
    "# check for english vs non english if the name\n",
    "# has more than 3 non-alphanumeric characters\n",
    "def check_non_english(str_val):\n",
    "    non_english_chars = []\n",
    "    \n",
    "    for char in str_val:\n",
    "        if ord(char) > 127:\n",
    "            non_english_chars.append(char)\n",
    "    \n",
    "    if len(non_english_chars) > 3:\n",
    "        return True\n",
    "    else:\n",
    "        return False\n",
    "    \n",
    "# Sanity check\n",
    "print(check_non_english('Docs To Go™ Free Office Suite'))\n",
    "print(check_non_english('Instachat 😜'))\n",
    "print(check_non_english('爱奇艺PPS -《欢乐颂2》电视剧热播'))"
   ]
  },
  {
   "cell_type": "code",
   "execution_count": 12,
   "metadata": {},
   "outputs": [
    {
     "name": "stdout",
     "output_type": "stream",
     "text": [
      "Length of Android English Apps: 9614\n",
      "Length of Android Non English Apps: 45\n",
      "Length of iOS English Apps: 6181\n",
      "Length of iOS Non English Apps: 1014\n"
     ]
    }
   ],
   "source": [
    "# Remove non english apps \n",
    "def remove_non_english_apps(dataset, name_col_index):\n",
    "    english_apps = []\n",
    "    non_english_apps = []\n",
    "    \n",
    "    for app in dataset:\n",
    "        name = app[name_col_index]\n",
    "        \n",
    "        if check_non_english(name):\n",
    "            non_english_apps.append(app)\n",
    "        else:\n",
    "            english_apps.append(app)\n",
    "            \n",
    "    return english_apps, non_english_apps\n",
    "\n",
    "android_clean_eng, android_clean_non_eng = remove_non_english_apps(android_clean, 0)\n",
    "print(\"Length of Android English Apps: {}\".format(len(android_clean_eng)))\n",
    "print(\"Length of Android Non English Apps: {}\".format(len(android_clean_non_eng)))\n",
    "\n",
    "ios_clean_eng, ios_clean_non_eng = remove_non_english_apps(ios_clean, 1)\n",
    "print(\"Length of iOS English Apps: {}\".format(len(ios_clean_eng)))\n",
    "print(\"Length of iOS Non English Apps: {}\".format(len(ios_clean_non_eng)))"
   ]
  },
  {
   "cell_type": "markdown",
   "metadata": {},
   "source": [
    "** Isolate the free apps only **"
   ]
  },
  {
   "cell_type": "code",
   "execution_count": 13,
   "metadata": {
    "collapsed": true
   },
   "outputs": [],
   "source": [
    "# check the price col of the dataset to verify if free or not\n",
    "def get_free_apps(dataset, price_col_index):\n",
    "    free_apps = []\n",
    "    for app in dataset:\n",
    "        price = float(app[price_col_index].replace(\"$\", \"\"))\n",
    "        if price == 0:\n",
    "            free_apps.append(app)\n",
    "    return free_apps"
   ]
  },
  {
   "cell_type": "code",
   "execution_count": 14,
   "metadata": {},
   "outputs": [
    {
     "name": "stdout",
     "output_type": "stream",
     "text": [
      "Android\n",
      "['App', 'Category', 'Rating', 'Reviews', 'Size', 'Installs', 'Type', 'Price', 'Content Rating', 'Genres', 'Last Updated', 'Current Ver', 'Android Ver']\n",
      "\n",
      "iOS:\n",
      "['id', 'track_name', 'size_bytes', 'currency', 'price', 'rating_count_tot', 'rating_count_ver', 'user_rating', 'user_rating_ver', 'ver', 'cont_rating', 'prime_genre', 'sup_devices.num', 'ipadSc_urls.num', 'lang.num', 'vpp_lic']\n"
     ]
    }
   ],
   "source": [
    "# check headers\n",
    "print(\"Android\")\n",
    "print(android_header)\n",
    "print(\"\\niOS:\")\n",
    "print(ios_header)"
   ]
  },
  {
   "cell_type": "code",
   "execution_count": 15,
   "metadata": {},
   "outputs": [
    {
     "name": "stdout",
     "output_type": "stream",
     "text": [
      "No. of free Android apps: 8864\n",
      "No. of free iOS apps: 3220\n"
     ]
    }
   ],
   "source": [
    "# Android\n",
    "android_free_apps = get_free_apps(android_clean_eng, price_col_index=7)\n",
    "print(\"No. of free Android apps: {}\".format(len(android_free_apps)))\n",
    "\n",
    "# iOS\n",
    "ios_free_apps = get_free_apps(ios_clean_eng, price_col_index=4)\n",
    "print(\"No. of free iOS apps: {}\".format(len(ios_free_apps)))"
   ]
  },
  {
   "cell_type": "markdown",
   "metadata": {},
   "source": [
    "## Analysis\n",
    "\n",
    "Since our goal is to find apps that are profitable in both markets: Google and Apple, we want to explore apps with the ff:\n",
    "1. available in google and apple store?\n",
    "2. highest rating and ratings/reviews count\n",
    "3. category/genre it belongs to "
   ]
  },
  {
   "cell_type": "code",
   "execution_count": 16,
   "metadata": {
    "collapsed": true
   },
   "outputs": [],
   "source": [
    "# check frequency of genre in both markets\n",
    "def freq_table(dataset, index):\n",
    "    table = {}\n",
    "    for app in dataset:\n",
    "        col_val = app[index]\n",
    "        if col_val in table:\n",
    "            table[col_val] += 1\n",
    "        else:\n",
    "            table[col_val] = 1\n",
    "    \n",
    "    total = len(dataset)\n",
    "    perc_table = {}\n",
    "    for key in table:\n",
    "        perc_table[key] = round(table[key] / total * 100, 2)\n",
    "    \n",
    "    return perc_table\n",
    "\n",
    "def display_freq_table(dataset, index):\n",
    "    table = freq_table(dataset, index)\n",
    "    table_display = []\n",
    "    for key in table:\n",
    "        key_val_as_tuple = (table[key], key)\n",
    "        table_display.append(key_val_as_tuple)\n",
    "\n",
    "    table_sorted = sorted(table_display, reverse = True)\n",
    "    for entry in table_sorted:\n",
    "        print(entry[1], ':', entry[0])"
   ]
  },
  {
   "cell_type": "code",
   "execution_count": 17,
   "metadata": {},
   "outputs": [
    {
     "name": "stdout",
     "output_type": "stream",
     "text": [
      "Games : 58.14\n",
      "Entertainment : 7.89\n",
      "Photo & Video : 4.97\n",
      "Education : 3.66\n",
      "Social Networking : 3.29\n",
      "Shopping : 2.61\n",
      "Utilities : 2.52\n",
      "Sports : 2.14\n",
      "Music : 2.05\n",
      "Health & Fitness : 2.02\n",
      "Productivity : 1.74\n",
      "Lifestyle : 1.58\n",
      "News : 1.34\n",
      "Travel : 1.24\n",
      "Finance : 1.12\n",
      "Weather : 0.87\n",
      "Food & Drink : 0.81\n",
      "Reference : 0.56\n",
      "Business : 0.53\n",
      "Book : 0.43\n",
      "Navigation : 0.19\n",
      "Medical : 0.19\n",
      "Catalogs : 0.12\n"
     ]
    }
   ],
   "source": [
    "# iOS\n",
    "display_freq_table(ios_free_apps, 11)"
   ]
  },
  {
   "cell_type": "markdown",
   "metadata": {},
   "source": [
    "We can see that iOS apps' top 3 genres are Games, Entertainment, and Photo & Video. We can deduce from the frequency table that people download free apps that are entertaining in general (Games and Entertainment) and these users probably enjoy the features of an iPhone camera in capturing fascinating photos (Photo & Video).\n",
    "\n",
    "In summary, there are a lot of users that download games, entertainment, and photo & video apps; thus, it's better to focus on these genres when developing an app to generate profitable ones."
   ]
  },
  {
   "cell_type": "code",
   "execution_count": 18,
   "metadata": {},
   "outputs": [
    {
     "name": "stdout",
     "output_type": "stream",
     "text": [
      "FAMILY : 18.91\n",
      "GAME : 9.72\n",
      "TOOLS : 8.46\n",
      "BUSINESS : 4.59\n",
      "LIFESTYLE : 3.9\n",
      "PRODUCTIVITY : 3.89\n",
      "FINANCE : 3.7\n",
      "MEDICAL : 3.53\n",
      "SPORTS : 3.4\n",
      "PERSONALIZATION : 3.32\n",
      "COMMUNICATION : 3.24\n",
      "HEALTH_AND_FITNESS : 3.08\n",
      "PHOTOGRAPHY : 2.94\n",
      "NEWS_AND_MAGAZINES : 2.8\n",
      "SOCIAL : 2.66\n",
      "TRAVEL_AND_LOCAL : 2.34\n",
      "SHOPPING : 2.25\n",
      "BOOKS_AND_REFERENCE : 2.14\n",
      "DATING : 1.86\n",
      "VIDEO_PLAYERS : 1.79\n",
      "MAPS_AND_NAVIGATION : 1.4\n",
      "FOOD_AND_DRINK : 1.24\n",
      "EDUCATION : 1.16\n",
      "ENTERTAINMENT : 0.96\n",
      "LIBRARIES_AND_DEMO : 0.94\n",
      "AUTO_AND_VEHICLES : 0.93\n",
      "HOUSE_AND_HOME : 0.82\n",
      "WEATHER : 0.8\n",
      "EVENTS : 0.71\n",
      "PARENTING : 0.65\n",
      "ART_AND_DESIGN : 0.64\n",
      "COMICS : 0.62\n",
      "BEAUTY : 0.6\n"
     ]
    }
   ],
   "source": [
    "# Android Category\n",
    "display_freq_table(android_free_apps, 1)"
   ]
  },
  {
   "cell_type": "code",
   "execution_count": 19,
   "metadata": {},
   "outputs": [
    {
     "name": "stdout",
     "output_type": "stream",
     "text": [
      "Tools : 8.45\n",
      "Entertainment : 6.07\n",
      "Education : 5.35\n",
      "Business : 4.59\n",
      "Productivity : 3.89\n",
      "Lifestyle : 3.89\n",
      "Finance : 3.7\n",
      "Medical : 3.53\n",
      "Sports : 3.46\n",
      "Personalization : 3.32\n",
      "Communication : 3.24\n",
      "Action : 3.1\n",
      "Health & Fitness : 3.08\n",
      "Photography : 2.94\n",
      "News & Magazines : 2.8\n",
      "Social : 2.66\n",
      "Travel & Local : 2.32\n",
      "Shopping : 2.25\n",
      "Books & Reference : 2.14\n",
      "Simulation : 2.04\n",
      "Dating : 1.86\n",
      "Arcade : 1.85\n",
      "Video Players & Editors : 1.77\n",
      "Casual : 1.76\n",
      "Maps & Navigation : 1.4\n",
      "Food & Drink : 1.24\n",
      "Puzzle : 1.13\n",
      "Racing : 0.99\n",
      "Role Playing : 0.94\n",
      "Libraries & Demo : 0.94\n",
      "Auto & Vehicles : 0.93\n",
      "Strategy : 0.91\n",
      "House & Home : 0.82\n",
      "Weather : 0.8\n",
      "Events : 0.71\n",
      "Adventure : 0.68\n",
      "Comics : 0.61\n",
      "Beauty : 0.6\n",
      "Art & Design : 0.6\n",
      "Parenting : 0.5\n",
      "Card : 0.45\n",
      "Casino : 0.43\n",
      "Trivia : 0.42\n",
      "Educational;Education : 0.39\n",
      "Board : 0.38\n",
      "Educational : 0.37\n",
      "Education;Education : 0.34\n",
      "Word : 0.26\n",
      "Casual;Pretend Play : 0.24\n",
      "Music : 0.2\n",
      "Racing;Action & Adventure : 0.17\n",
      "Puzzle;Brain Games : 0.17\n",
      "Entertainment;Music & Video : 0.17\n",
      "Casual;Brain Games : 0.14\n",
      "Casual;Action & Adventure : 0.14\n",
      "Arcade;Action & Adventure : 0.12\n",
      "Action;Action & Adventure : 0.1\n",
      "Educational;Pretend Play : 0.09\n",
      "Simulation;Action & Adventure : 0.08\n",
      "Parenting;Education : 0.08\n",
      "Entertainment;Brain Games : 0.08\n",
      "Board;Brain Games : 0.08\n",
      "Parenting;Music & Video : 0.07\n",
      "Educational;Brain Games : 0.07\n",
      "Casual;Creativity : 0.07\n",
      "Art & Design;Creativity : 0.07\n",
      "Education;Pretend Play : 0.06\n",
      "Role Playing;Pretend Play : 0.05\n",
      "Education;Creativity : 0.05\n",
      "Role Playing;Action & Adventure : 0.03\n",
      "Puzzle;Action & Adventure : 0.03\n",
      "Entertainment;Creativity : 0.03\n",
      "Entertainment;Action & Adventure : 0.03\n",
      "Educational;Creativity : 0.03\n",
      "Educational;Action & Adventure : 0.03\n",
      "Education;Music & Video : 0.03\n",
      "Education;Brain Games : 0.03\n",
      "Education;Action & Adventure : 0.03\n",
      "Adventure;Action & Adventure : 0.03\n",
      "Video Players & Editors;Music & Video : 0.02\n",
      "Sports;Action & Adventure : 0.02\n",
      "Simulation;Pretend Play : 0.02\n",
      "Puzzle;Creativity : 0.02\n",
      "Music;Music & Video : 0.02\n",
      "Entertainment;Pretend Play : 0.02\n",
      "Casual;Education : 0.02\n",
      "Board;Action & Adventure : 0.02\n",
      "Video Players & Editors;Creativity : 0.01\n",
      "Trivia;Education : 0.01\n",
      "Travel & Local;Action & Adventure : 0.01\n",
      "Tools;Education : 0.01\n",
      "Strategy;Education : 0.01\n",
      "Strategy;Creativity : 0.01\n",
      "Strategy;Action & Adventure : 0.01\n",
      "Simulation;Education : 0.01\n",
      "Role Playing;Brain Games : 0.01\n",
      "Racing;Pretend Play : 0.01\n",
      "Puzzle;Education : 0.01\n",
      "Parenting;Brain Games : 0.01\n",
      "Music & Audio;Music & Video : 0.01\n",
      "Lifestyle;Pretend Play : 0.01\n",
      "Lifestyle;Education : 0.01\n",
      "Health & Fitness;Education : 0.01\n",
      "Health & Fitness;Action & Adventure : 0.01\n",
      "Entertainment;Education : 0.01\n",
      "Communication;Creativity : 0.01\n",
      "Comics;Creativity : 0.01\n",
      "Casual;Music & Video : 0.01\n",
      "Card;Action & Adventure : 0.01\n",
      "Books & Reference;Education : 0.01\n",
      "Art & Design;Pretend Play : 0.01\n",
      "Art & Design;Action & Adventure : 0.01\n",
      "Arcade;Pretend Play : 0.01\n",
      "Adventure;Education : 0.01\n"
     ]
    }
   ],
   "source": [
    "# Android Genre\n",
    "display_freq_table(android_free_apps, 9)"
   ]
  },
  {
   "cell_type": "markdown",
   "metadata": {},
   "source": [
    "In contrast with iOS users, Android users typically download apps in the Family category with Games getting only the second spot. Looking at the Genres section, these users also find a lot of helpful Tool apps which are probably used everday. One pattern we can digest from the tables is that Android users look for apps that can be shared with the family and practical.  Surprisingly, it is possible that there are more free and high quality apps in the family/tools category than entertainment (games included). "
   ]
  },
  {
   "cell_type": "code",
   "execution_count": 34,
   "metadata": {
    "collapsed": true
   },
   "outputs": [],
   "source": [
    "# Popular genres by number of installations\n",
    "def genre_install_table(dataset, genres_table, genre_col_index, tot_ratings_col_index):\n",
    "    for genre in genres_table:\n",
    "        total_ratings_per_genre = 0\n",
    "        genre_count = 0\n",
    "        for row in dataset:\n",
    "            genre_col = row[genre_col_index]\n",
    "            if genre_col ==  genre:\n",
    "                n_ratings = float(row[tot_ratings_col_index].replace(\"+\",\"\").replace(\",\",\"\"))\n",
    "                total_ratings_per_genre += n_ratings\n",
    "                genre_count += 1\n",
    "        avg_per_genre = total_ratings_per_genre / genre_count\n",
    "        print(\"{}: {}\".format(genre, avg_per_genre))"
   ]
  },
  {
   "cell_type": "code",
   "execution_count": 35,
   "metadata": {},
   "outputs": [
    {
     "name": "stdout",
     "output_type": "stream",
     "text": [
      "Reference: 74942.11111111111\n",
      "Weather: 52279.892857142855\n",
      "Entertainment: 14029.830708661417\n",
      "Utilities: 18684.456790123455\n",
      "News: 21248.023255813954\n",
      "Games: 22812.92467948718\n",
      "Lifestyle: 16485.764705882353\n",
      "Music: 57326.530303030304\n",
      "Business: 7491.117647058823\n",
      "Health & Fitness: 23298.015384615384\n",
      "Catalogs: 4004.0\n",
      "Shopping: 26919.690476190477\n",
      "Photo & Video: 28441.54375\n",
      "Education: 7003.983050847458\n",
      "Book: 39758.5\n",
      "Productivity: 21028.410714285714\n",
      "Navigation: 86090.33333333333\n",
      "Sports: 23008.898550724636\n",
      "Medical: 612.0\n",
      "Social Networking: 71548.34905660378\n",
      "Travel: 28243.8\n",
      "Finance: 31467.944444444445\n",
      "Food & Drink: 33333.92307692308\n"
     ]
    }
   ],
   "source": [
    "# iOS\n",
    "ios_genres = freq_table(ios_free_apps, 11)\n",
    "genre_install_table(ios_free_apps, ios_genres, 11, 5)"
   ]
  },
  {
   "cell_type": "code",
   "execution_count": 36,
   "metadata": {},
   "outputs": [
    {
     "name": "stdout",
     "output_type": "stream",
     "text": [
      "SPORTS: 3638640.1428571427\n",
      "AUTO_AND_VEHICLES: 647317.8170731707\n",
      "FINANCE: 1387692.475609756\n",
      "PARENTING: 542603.6206896552\n",
      "MEDICAL: 120550.61980830671\n",
      "LIBRARIES_AND_DEMO: 638503.734939759\n",
      "COMICS: 817657.2727272727\n",
      "BUSINESS: 1712290.1474201474\n",
      "WEATHER: 5074486.197183099\n",
      "TOOLS: 10801391.298666667\n",
      "PRODUCTIVITY: 16787331.344927534\n",
      "EVENTS: 253542.22222222222\n",
      "NEWS_AND_MAGAZINES: 9549178.467741935\n",
      "SHOPPING: 7036877.311557789\n",
      "ART_AND_DESIGN: 1986335.0877192982\n",
      "COMMUNICATION: 38456119.167247385\n",
      "HOUSE_AND_HOME: 1331540.5616438356\n",
      "LIFESTYLE: 1437816.2687861272\n",
      "GAME: 15588015.603248259\n",
      "BEAUTY: 513151.88679245283\n",
      "FAMILY: 3695641.8198090694\n",
      "ENTERTAINMENT: 11640705.88235294\n",
      "EDUCATION: 1833495.145631068\n",
      "MAPS_AND_NAVIGATION: 4056941.7741935486\n",
      "PERSONALIZATION: 5201482.6122448975\n",
      "FOOD_AND_DRINK: 1924897.7363636363\n",
      "BOOKS_AND_REFERENCE: 8767811.894736841\n",
      "SOCIAL: 23253652.127118643\n",
      "DATING: 854028.8303030303\n",
      "TRAVEL_AND_LOCAL: 13984077.710144928\n",
      "VIDEO_PLAYERS: 24727872.452830188\n",
      "PHOTOGRAPHY: 17840110.40229885\n",
      "HEALTH_AND_FITNESS: 4188821.9853479853\n"
     ]
    }
   ],
   "source": [
    "# Android\n",
    "android_genres = freq_table(android_free_apps, 1)\n",
    "genre_install_table(android_free_apps, android_genres, 1, 5)"
   ]
  }
 ],
 "metadata": {
  "kernelspec": {
   "display_name": "Python 3",
   "language": "python",
   "name": "python3"
  },
  "language_info": {
   "codemirror_mode": {
    "name": "ipython",
    "version": 3
   },
   "file_extension": ".py",
   "mimetype": "text/x-python",
   "name": "python",
   "nbconvert_exporter": "python",
   "pygments_lexer": "ipython3",
   "version": "3.7.3"
  }
 },
 "nbformat": 4,
 "nbformat_minor": 2
}
